{
 "cells": [
  {
   "cell_type": "code",
   "execution_count": 1,
   "id": "aed045c7",
   "metadata": {},
   "outputs": [],
   "source": [
    "import random\n",
    "\n",
    "height = 15\n",
    "width = 19\n",
    "center = width//2\n",
    "\n",
    "yellow = '\\033[33m'\n",
    "green = '\\033[42m'\n",
    "brown = '\\033[41m'\n",
    "black = '\\033[40m'\n",
    "red = '\\033[91m'\n",
    "white = '\\033[97m'"
   ]
  },
  {
   "cell_type": "code",
   "execution_count": 2,
   "id": "423115b8",
   "metadata": {},
   "outputs": [
    {
     "name": "stdout",
     "output_type": "stream",
     "text": [
      "\u001b[40m \u001b[40m \u001b[40m \u001b[40m \u001b[40m \u001b[40m \u001b[40m \u001b[40m \u001b[40m \u001b[40m\u001b[33m✯\u001b[40m \u001b[40m \u001b[40m \u001b[40m \u001b[40m \u001b[40m \u001b[40m \u001b[40m \u001b[40m \n",
      "\u001b[40m \u001b[40m\u001b[97m*\u001b[40m \u001b[40m\u001b[97m*\u001b[40m \u001b[40m \u001b[40m\u001b[97m*\u001b[40m \u001b[42m\u001b[91m●\u001b[42m \u001b[42m \u001b[40m \u001b[40m \u001b[40m \u001b[40m\u001b[97m*\u001b[40m \u001b[40m \u001b[40m \u001b[40m \n",
      "\u001b[40m \u001b[40m \u001b[40m \u001b[40m \u001b[40m \u001b[40m \u001b[40m\u001b[97m*\u001b[42m \u001b[42m \u001b[42m\u001b[91m●\u001b[42m \u001b[42m \u001b[40m\u001b[97m*\u001b[40m \u001b[40m \u001b[40m\u001b[97m*\u001b[40m \u001b[40m \u001b[40m \n",
      "\u001b[40m \u001b[40m \u001b[40m \u001b[40m\u001b[97m*\u001b[40m \u001b[40m \u001b[42m \u001b[42m \u001b[42m \u001b[42m \u001b[42m \u001b[42m \u001b[42m \u001b[40m \u001b[40m \u001b[40m \u001b[40m\u001b[97m*\u001b[40m \u001b[40m \n",
      "\u001b[40m \u001b[40m\u001b[97m*\u001b[40m \u001b[40m \u001b[40m \u001b[40m \u001b[40m\u001b[97m*\u001b[42m \u001b[42m \u001b[42m\u001b[91m●\u001b[42m \u001b[42m \u001b[40m\u001b[97m*\u001b[40m \u001b[40m\u001b[97m*\u001b[40m\u001b[97m*\u001b[40m\u001b[97m*\u001b[40m\u001b[97m*\u001b[40m \n",
      "\u001b[40m \u001b[40m \u001b[40m \u001b[40m \u001b[40m \u001b[40m \u001b[42m \u001b[42m\u001b[91m●\u001b[42m \u001b[42m \u001b[42m \u001b[42m\u001b[91m●\u001b[42m \u001b[40m \u001b[40m \u001b[40m \u001b[40m \u001b[40m \u001b[40m \n",
      "\u001b[40m\u001b[97m*\u001b[40m \u001b[40m\u001b[97m*\u001b[40m\u001b[97m*\u001b[40m\u001b[97m*\u001b[42m \u001b[42m \u001b[42m \u001b[42m\u001b[91m●\u001b[42m \u001b[42m \u001b[42m \u001b[42m \u001b[42m \u001b[40m \u001b[40m \u001b[40m \u001b[40m \u001b[40m\u001b[97m*\n",
      "\u001b[40m \u001b[40m \u001b[40m \u001b[40m \u001b[42m\u001b[91m●\u001b[42m \u001b[42m\u001b[91m●\u001b[42m \u001b[42m \u001b[42m \u001b[42m \u001b[42m \u001b[42m \u001b[42m \u001b[42m \u001b[40m\u001b[97m*\u001b[40m \u001b[40m \u001b[40m \n",
      "\u001b[40m \u001b[40m \u001b[40m \u001b[40m \u001b[40m \u001b[42m \u001b[42m \u001b[42m\u001b[91m●\u001b[42m \u001b[42m \u001b[42m \u001b[42m \u001b[42m\u001b[91m●\u001b[42m \u001b[40m \u001b[40m \u001b[40m \u001b[40m \u001b[40m \n",
      "\u001b[40m\u001b[97m*\u001b[40m \u001b[40m \u001b[40m \u001b[42m \u001b[42m \u001b[42m \u001b[42m \u001b[42m\u001b[91m●\u001b[42m \u001b[42m \u001b[42m \u001b[42m \u001b[42m \u001b[42m\u001b[91m●\u001b[40m \u001b[40m \u001b[40m \u001b[40m \n",
      "\u001b[40m \u001b[40m \u001b[40m \u001b[42m \u001b[42m \u001b[42m \u001b[42m \u001b[42m \u001b[42m \u001b[42m \u001b[42m \u001b[42m \u001b[42m \u001b[42m \u001b[42m \u001b[42m \u001b[40m \u001b[40m\u001b[97m*\u001b[40m \n",
      "\u001b[40m \u001b[40m \u001b[42m \u001b[42m\u001b[91m●\u001b[42m \u001b[42m \u001b[42m \u001b[42m\u001b[91m●\u001b[42m \u001b[42m \u001b[42m \u001b[42m\u001b[91m●\u001b[42m\u001b[91m●\u001b[42m \u001b[42m \u001b[42m\u001b[91m●\u001b[42m \u001b[40m \u001b[40m \n",
      "\u001b[40m \u001b[40m \u001b[40m \u001b[40m\u001b[97m*\u001b[40m\u001b[97m*\u001b[40m \u001b[40m\u001b[97m*\u001b[40m\u001b[97m*\u001b[41m \u001b[41m \u001b[41m \u001b[40m\u001b[97m*\u001b[40m\u001b[97m*\u001b[40m \u001b[40m \u001b[40m\u001b[97m*\u001b[40m \u001b[40m \u001b[40m \n",
      "\u001b[40m \u001b[40m \u001b[40m\u001b[97m*\u001b[40m \u001b[40m \u001b[40m\u001b[97m*\u001b[40m\u001b[97m*\u001b[40m \u001b[41m \u001b[41m \u001b[41m \u001b[40m \u001b[40m\u001b[97m*\u001b[40m \u001b[40m \u001b[40m \u001b[40m \u001b[40m \u001b[40m \n",
      "\u001b[40m \u001b[40m \u001b[40m \u001b[40m \u001b[40m \u001b[40m\u001b[97m*\u001b[40m \u001b[40m\u001b[97m*\u001b[41m \u001b[41m \u001b[41m \u001b[40m \u001b[40m \u001b[40m \u001b[40m \u001b[40m\u001b[97m*\u001b[40m \u001b[40m \u001b[40m \n"
     ]
    }
   ],
   "source": [
    "for i in range(height):\n",
    "    if i == 0:\n",
    "        for j in range(width):\n",
    "            if j == center:\n",
    "                print(black + yellow + '✯', end='')\n",
    "            else:\n",
    "                print(black + ' ', end='')\n",
    "    elif i < height-3:\n",
    "        s = i//4\n",
    "        for j in range(width):\n",
    "            p = random.uniform(0, 1)\n",
    "            if center-i+2*s-1 < j < center+i-2*s+1:\n",
    "                if p > 0.85:\n",
    "                    print(green + red + '●', end='')\n",
    "                else:\n",
    "                    print(green + ' ', end='')\n",
    "            else:\n",
    "                if p > 0.80:\n",
    "                    print(black + white + '*', end='')\n",
    "                else:\n",
    "                    print(black + ' ', end='')\n",
    "    else:\n",
    "        for j in range(width):\n",
    "            if center-2 < j < center+2:\n",
    "                print(brown + ' ', end='')\n",
    "            else:\n",
    "                p = random.uniform(0, 1)\n",
    "                if p > 0.80:\n",
    "                    print(black + white + '*', end='')\n",
    "                else:\n",
    "                    print(black + ' ', end='')\n",
    "    print()    "
   ]
  },
  {
   "cell_type": "code",
   "execution_count": null,
   "id": "fdb0ebcd",
   "metadata": {},
   "outputs": [],
   "source": []
  }
 ],
 "metadata": {
  "kernelspec": {
   "display_name": "Python 3",
   "language": "python",
   "name": "python3"
  },
  "language_info": {
   "codemirror_mode": {
    "name": "ipython",
    "version": 3
   },
   "file_extension": ".py",
   "mimetype": "text/x-python",
   "name": "python",
   "nbconvert_exporter": "python",
   "pygments_lexer": "ipython3",
   "version": "3.8.8"
  }
 },
 "nbformat": 4,
 "nbformat_minor": 5
}
